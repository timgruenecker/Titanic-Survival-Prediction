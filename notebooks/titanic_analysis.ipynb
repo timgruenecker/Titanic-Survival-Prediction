{
 "cells": [
  {
   "cell_type": "markdown",
   "id": "13c0dcae",
   "metadata": {},
   "source": [
    "# Überschrift"
   ]
  },
  {
   "cell_type": "code",
   "execution_count": null,
   "id": "691babfd",
   "metadata": {},
   "outputs": [
    {
     "name": "stdout",
     "output_type": "stream",
     "text": [
      "🎯 Genauigkeit auf Testdaten: 0.797\n"
     ]
    }
   ],
   "source": [
    "# Imports\n",
    "import pandas as pd\n",
    "import seaborn as sns\n",
    "import matplotlib.pyplot as plt\n",
    "\n",
    "# CSV laden\n",
    "df = pd.read_csv(\"../data/train.csv\")  # relativer Pfad von notebooks/ aus\n",
    "\n",
    "# Überblick\n",
    "print(\"🔍 Überblick:\")\n",
    "print(df.shape)\n",
    "print(df.info())\n",
    "print(df.describe())\n",
    "\n",
    "# Liste relevanter Features (Kategorien & numerisch diskret)\n",
    "features = [\"Pclass\", \"Sex\", \"SibSp\", \"Parch\", \"Embarked\"]\n",
    "\n",
    "for feature in features:\n",
    "    print(f\"\\n📊 Überlebensrate nach {feature}:\")\n",
    "    print(df.groupby(feature)[\"Survived\"].mean())\n",
    "    sns.barplot(x=feature, y=\"Survived\", data=df)\n",
    "    plt.title(f\"Überlebensrate nach {feature}\")\n",
    "    plt.show()\n",
    "\n",
    "# Altersverteilung und Überleben (numerisch → mit Binning)\n",
    "print(\"\\n🧒 Altersverteilung (binned) und Überlebensrate:\")\n",
    "df[\"AgeBin\"] = pd.cut(df[\"Age\"], bins=[0, 12, 18, 30, 45, 60, 80], labels=[\"Kind\", \"Teen\", \"Jung\", \"Mittel\", \"Reif\", \"Alt\"])\n",
    "print(df.groupby(\"AgeBin\")[\"Survived\"].mean())\n",
    "sns.barplot(x=\"AgeBin\", y=\"Survived\", data=df)\n",
    "plt.title(\"Überlebensrate nach Altersgruppen\")\n",
    "plt.show()\n",
    "\n",
    "# Fare binned\n",
    "print(\"\\n💰 Fare-Verteilung (binned) und Überlebensrate:\")\n",
    "df[\"FareBin\"] = pd.qcut(df[\"Fare\"], 4, labels=[\"Niedrig\", \"Mittel\", \"Hoch\", \"Sehr hoch\"])\n",
    "print(df.groupby(\"FareBin\")[\"Survived\"].mean())\n",
    "sns.barplot(x=\"FareBin\", y=\"Survived\", data=df)\n",
    "plt.title(\"Überlebensrate nach Ticketpreis\")\n",
    "plt.show()\n",
    "\n"
   ]
  }
 ],
 "metadata": {
  "kernelspec": {
   "display_name": "Python 3",
   "language": "python",
   "name": "python3"
  },
  "language_info": {
   "codemirror_mode": {
    "name": "ipython",
    "version": 3
   },
   "file_extension": ".py",
   "mimetype": "text/x-python",
   "name": "python",
   "nbconvert_exporter": "python",
   "pygments_lexer": "ipython3",
   "version": "3.12.0"
  }
 },
 "nbformat": 4,
 "nbformat_minor": 5
}
