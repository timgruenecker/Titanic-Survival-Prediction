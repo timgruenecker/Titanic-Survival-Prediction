{
 "cells": [
  {
   "cell_type": "markdown",
   "id": "13c0dcae",
   "metadata": {},
   "source": [
    "# Überschrift"
   ]
  },
  {
   "cell_type": "code",
   "execution_count": null,
   "id": "691babfd",
   "metadata": {},
   "outputs": [
    {
     "name": "stderr",
     "output_type": "stream",
     "text": [
      "C:\\Users\\timgr_\\AppData\\Local\\Temp\\ipykernel_14440\\3125251861.py:19: FutureWarning: A value is trying to be set on a copy of a DataFrame or Series through chained assignment using an inplace method.\n",
      "The behavior will change in pandas 3.0. This inplace method will never work because the intermediate object on which we are setting values always behaves as a copy.\n",
      "\n",
      "For example, when doing 'df[col].method(value, inplace=True)', try using 'df.method({col: value}, inplace=True)' or df[col] = df[col].method(value) instead, to perform the operation inplace on the original object.\n",
      "\n",
      "\n",
      "  X[\"Embarked\"].fillna(\"S\", inplace=True)\n",
      "C:\\Users\\timgr_\\AppData\\Local\\Temp\\ipykernel_14440\\3125251861.py:21: FutureWarning: A value is trying to be set on a copy of a DataFrame or Series through chained assignment using an inplace method.\n",
      "The behavior will change in pandas 3.0. This inplace method will never work because the intermediate object on which we are setting values always behaves as a copy.\n",
      "\n",
      "For example, when doing 'df[col].method(value, inplace=True)', try using 'df.method({col: value}, inplace=True)' or df[col] = df[col].method(value) instead, to perform the operation inplace on the original object.\n",
      "\n",
      "\n",
      "  X[\"Age\"].fillna(X[\"Age\"].median(), inplace=True)\n"
     ]
    },
    {
     "name": "stdout",
     "output_type": "stream",
     "text": [
      "[[90 15]\n",
      " [20 54]]\n",
      "              precision    recall  f1-score   support\n",
      "\n",
      "           0       0.82      0.86      0.84       105\n",
      "           1       0.78      0.73      0.76        74\n",
      "\n",
      "    accuracy                           0.80       179\n",
      "   macro avg       0.80      0.79      0.80       179\n",
      "weighted avg       0.80      0.80      0.80       179\n",
      "\n"
     ]
    }
   ],
   "source": [
    "import pandas as pd\n",
    "import numpy as np\n",
    "from sklearn.model_selection import train_test_split\n",
    "from sklearn.linear_model import LogisticRegression\n",
    "from sklearn.metrics import classification_report, confusion_matrix\n",
    "from sklearn.preprocessing import LabelEncoder\n",
    "\n",
    "# 📥 Daten laden\n",
    "train_df = pd.read_csv(\"..//data//train.csv\")\n",
    "test_df = pd.read_csv(\"..//data//test.csv\")\n",
    "\n",
    "# 🎯 Zielvariable\n",
    "y = train_df[\"Survived\"]\n",
    "\n",
    "# 🧹 Features vorbereiten\n",
    "X = train_df.drop([\"Survived\", \"Name\", \"Ticket\", \"Cabin\", \"PassengerId\"], axis=1)\n",
    "\n",
    "X[\"Sex\"] = X[\"Sex\"].map({\"male\": 0, \"female\": 1})\n",
    "X[\"Embarked\"].fillna(\"S\", inplace=True)\n",
    "X = pd.get_dummies(X, columns=[\"Embarked\"], drop_first=True)\n",
    "X[\"Age\"].fillna(X[\"Age\"].median(), inplace=True)\n",
    "\n",
    "# Titel extrahieren \n",
    "titles = train_df[\"Name\"].str.extract(r\" ([A-Za-z]+)\\.\", expand=False)\n",
    "# Weniger häufig vorkommende Titel werden zur Gruppe \"Rare\" zusammengefasst.\n",
    "titles = titles.replace(\n",
    "    ['Lady', 'Countess', 'Capt', 'Col', 'Don', 'Dr', 'Major', 'Rev', 'Sir', 'Jonkheer', 'Dona'],\n",
    "    'Rare'\n",
    ")\n",
    "# Manchmal tauchen gleiche Rollen in leicht anderer Schreibweise auf, Mlle ist französisch für Miss und Mme für Mrs.\n",
    "titles = titles.replace({'Mlle': 'Miss', 'Ms': 'Miss', 'Mme': 'Mrs'})\n",
    "# One-Hot-Encoding oder Label-Encoding (hier Label als Beispiel)\n",
    "X[\"Title\"] = LabelEncoder().fit_transform(titles)\n",
    "\n",
    "# Familiengröße und alleinstehend\n",
    "# Die Anzahl der Geschwister/Ehepartner (SibSp) und Eltern/Kinder (Parch) wird addiert, um die Familiengröße zu berechnen.\n",
    "X[\"FamilySize\"] = train_df[\"SibSp\"] + train_df[\"Parch\"] + 1\n",
    "X[\"IsAlone\"] = (X[\"FamilySize\"] == 1).astype(int)  # 1 = allein, 0 = nicht allein\n",
    "\n",
    "\n",
    "\n",
    "# ✂️ Trainings-/Validierungsdaten splitten\n",
    "X_train, X_val, y_train, y_val = train_test_split(X, y, test_size=0.2, random_state=42)\n",
    "\n",
    "# 🧠 Modell trainieren\n",
    "model = LogisticRegression(max_iter=1000)\n",
    "model.fit(X_train, y_train)\n",
    "\n",
    "# ✅ Evaluation\n",
    "y_pred = model.predict(X_val)\n",
    "print(confusion_matrix(y_val, y_pred))\n",
    "print(classification_report(y_val, y_pred))\n",
    "\n"
   ]
  },
  {
   "cell_type": "markdown",
   "id": "5e77e8bf",
   "metadata": {},
   "source": [
    "Bei den Koeffizienten sieht man, dass Frauen starke überlebenschancen haben mit 2,59 log odd = 13.34 odds ratio = Wenn das Geschlecht von männlich (0) auf weiblich (1) wechselt, dann steigen die Überlebens-Odds um den Faktor 13.34.\n",
    "Bei Pclass -0,93 = bedeutet, dass Für jede Erhöhung der Klasse (z. B. von 1 → 2 oder 2 → 3) = schlechtere Klasse = sinken die Überlebens-Odds um etwa 61 % (da e^-0,93 ≈ 0.39)."
   ]
  },
  {
   "cell_type": "code",
   "execution_count": null,
   "id": "85ccfe73",
   "metadata": {},
   "outputs": [],
   "source": []
  },
  {
   "cell_type": "code",
   "execution_count": 8,
   "id": "84c021c6",
   "metadata": {},
   "outputs": [
    {
     "name": "stdout",
     "output_type": "stream",
     "text": [
      "\n",
      "Koeffizienten (log-Odds):\n",
      "Sex           2.526754\n",
      "Fare          0.002159\n",
      "Parch        -0.003948\n",
      "Age          -0.025859\n",
      "Embarked_Q   -0.095095\n",
      "Title        -0.122959\n",
      "SibSp        -0.227750\n",
      "FamilySize   -0.248710\n",
      "Embarked_S   -0.342891\n",
      "IsAlone      -0.701901\n",
      "Pclass       -0.887476\n",
      "dtype: float64\n",
      "\n",
      "Odds Ratios (e^Koeffizient):\n",
      "Sex           12.512830\n",
      "Fare           1.002162\n",
      "Parch          0.996060\n",
      "Age            0.974473\n",
      "Embarked_Q     0.909287\n",
      "Title          0.884300\n",
      "SibSp          0.796323\n",
      "FamilySize     0.779806\n",
      "Embarked_S     0.709715\n",
      "IsAlone        0.495642\n",
      "Pclass         0.411693\n",
      "dtype: float64\n"
     ]
    }
   ],
   "source": [
    "# 📊 Koeffizienten anzeigen (Einfluss der Features)\n",
    "coefficients = pd.Series(model.coef_[0], index=X.columns)\n",
    "print(\"\\nKoeffizienten (log-Odds):\")\n",
    "print(coefficients.sort_values(ascending=False))\n",
    "\n",
    "# 🔁 Odds Ratios (besser interpretierbar als Wahrscheinlichkeitsänderung)\n",
    "odds_ratios = np.exp(coefficients)\n",
    "print(\"\\nOdds Ratios (e^Koeffizient):\")\n",
    "print(odds_ratios.sort_values(ascending=False))"
   ]
  }
 ],
 "metadata": {
  "kernelspec": {
   "display_name": "Python 3",
   "language": "python",
   "name": "python3"
  },
  "language_info": {
   "codemirror_mode": {
    "name": "ipython",
    "version": 3
   },
   "file_extension": ".py",
   "mimetype": "text/x-python",
   "name": "python",
   "nbconvert_exporter": "python",
   "pygments_lexer": "ipython3",
   "version": "3.12.0"
  }
 },
 "nbformat": 4,
 "nbformat_minor": 5
}
